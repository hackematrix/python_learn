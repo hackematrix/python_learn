{
  "nbformat": 4,
  "nbformat_minor": 0,
  "metadata": {
    "colab": {
      "provenance": []
    },
    "kernelspec": {
      "name": "python3",
      "display_name": "Python 3"
    },
    "language_info": {
      "name": "python"
    }
  },
  "cells": [
    {
      "cell_type": "code",
      "source": [
        "!pip install z3-solver"
      ],
      "metadata": {
        "colab": {
          "base_uri": "https://localhost:8080/"
        },
        "id": "NCLO2ODNF18R",
        "outputId": "243fdbc3-21de-4a5d-9038-25a42fa22059"
      },
      "execution_count": 1,
      "outputs": [
        {
          "output_type": "stream",
          "name": "stdout",
          "text": [
            "Requirement already satisfied: z3-solver in /usr/local/lib/python3.11/dist-packages (4.15.0.0)\n"
          ]
        }
      ]
    },
    {
      "cell_type": "code",
      "source": [
        "from z3 import *\n",
        "import matplotlib.pyplot as plt\n",
        "import numpy as np"
      ],
      "metadata": {
        "id": "I07l9lsOF7e7"
      },
      "execution_count": 2,
      "outputs": []
    },
    {
      "cell_type": "code",
      "source": [
        "x,y,z,a,b,c=z3.Ints('x y z a b c')\n",
        "x+y"
      ],
      "metadata": {
        "colab": {
          "base_uri": "https://localhost:8080/",
          "height": 34
        },
        "id": "Hjc1C8wtGGTo",
        "outputId": "7b58d90a-5ff4-4eaf-d0e0-f4a975c254c1"
      },
      "execution_count": 3,
      "outputs": [
        {
          "output_type": "execute_result",
          "data": {
            "text/plain": [
              "x + y"
            ],
            "text/html": [
              "x + y"
            ]
          },
          "metadata": {},
          "execution_count": 3
        }
      ]
    },
    {
      "cell_type": "code",
      "source": [
        "solve(x**2+y**2==z**2,x>0,y>0,z>0,z>=1000)"
      ],
      "metadata": {
        "colab": {
          "base_uri": "https://localhost:8080/"
        },
        "id": "E9FXD2aAGtvz",
        "outputId": "80213f7a-c70c-4198-ba80-72fa3000aa98"
      },
      "execution_count": 7,
      "outputs": [
        {
          "output_type": "stream",
          "name": "stdout",
          "text": [
            "[x = 1023, z = 1025, y = 64]\n"
          ]
        }
      ]
    },
    {
      "cell_type": "code",
      "source": [
        "n=16\n",
        "Q=[Int(f'Q_{i}') for i in range(n)]\n",
        "C1=[\n",
        "    And(Q[i]!=Q[j],\n",
        "        Abs(Q[i]-Q[j])!=Abs(i-j))\n",
        "          for i in range(n)\n",
        "          for j in range(n)\n",
        "            if i!=j\n",
        "]\n",
        "\n",
        "C2=[\n",
        "    And(0<=Q[i],\n",
        "        Q[i]<n)\n",
        "      for i in range(n)\n",
        "]\n",
        "\n",
        "solve(*C1,*C2)"
      ],
      "metadata": {
        "colab": {
          "base_uri": "https://localhost:8080/"
        },
        "id": "9s0BUoNFHppY",
        "outputId": "cb0fdc66-8f47-4d06-d3ce-c927e8908e84"
      },
      "execution_count": 8,
      "outputs": [
        {
          "output_type": "stream",
          "name": "stdout",
          "text": [
            "[Q_3 = 15,\n",
            " Q_9 = 4,\n",
            " Q_10 = 12,\n",
            " Q_8 = 11,\n",
            " Q_14 = 13,\n",
            " Q_5 = 5,\n",
            " Q_0 = 14,\n",
            " Q_2 = 7,\n",
            " Q_13 = 3,\n",
            " Q_15 = 6,\n",
            " Q_12 = 0,\n",
            " Q_1 = 10,\n",
            " Q_7 = 8,\n",
            " Q_4 = 1,\n",
            " Q_11 = 9,\n",
            " Q_6 = 2]\n"
          ]
        }
      ]
    },
    {
      "cell_type": "code",
      "source": [
        "s=Solver()\n",
        "s.add(*C1,*C2)\n",
        "s.check()\n",
        "\n",
        "board=np.zeros((n,n))\n",
        "for i in range(n):\n",
        "  board[i][s.model().evaluate(Q[i]).as_long()]=1\n",
        "\n",
        "plt.figure()\n",
        "plt.matshow(board,cmap='Blues')\n",
        "plt.show()\n",
        "\n"
      ],
      "metadata": {
        "colab": {
          "base_uri": "https://localhost:8080/",
          "height": 454
        },
        "id": "h4jk3S3VJ5rr",
        "outputId": "96021aef-87e4-4268-d8c5-889a52b319ce"
      },
      "execution_count": 12,
      "outputs": [
        {
          "output_type": "display_data",
          "data": {
            "text/plain": [
              "<Figure size 640x480 with 0 Axes>"
            ]
          },
          "metadata": {}
        },
        {
          "output_type": "display_data",
          "data": {
            "text/plain": [
              "<Figure size 480x480 with 1 Axes>"
            ],
            "image/png": "[encoded data removed]"
          },
          "metadata": {}
        }
      ]
    },
    {
      "cell_type": "code",
      "source": [],
      "metadata": {
        "id": "RNRWq3nsLLDq"
      },
      "execution_count": null,
      "outputs": []
    }
  ]
}