{
 "cells": [
  {
   "cell_type": "markdown",
   "id": "e3d134ee",
   "metadata": {},
   "source": [
    "**科学计算**"
   ]
  },
  {
   "cell_type": "code",
   "execution_count": 1,
   "id": "75055f16",
   "metadata": {},
   "outputs": [],
   "source": [
    "from sympy import *\n",
    "from sympy.abc import a,b,c,x,y\n",
    "from matplotlib import rc\n",
    "rc('text',usetex=True)"
   ]
  },
  {
   "cell_type": "code",
   "execution_count": 2,
   "id": "bd479392",
   "metadata": {},
   "outputs": [
    {
     "data": {
      "text/latex": [
       "$\\displaystyle x + 2 y$"
      ],
      "text/plain": [
       "x + 2*y"
      ]
     },
     "execution_count": 2,
     "metadata": {},
     "output_type": "execute_result"
    }
   ],
   "source": [
    "x+2*y"
   ]
  },
  {
   "cell_type": "code",
   "execution_count": 3,
   "id": "5fc2e05a",
   "metadata": {},
   "outputs": [
    {
     "data": {
      "text/latex": [
       "$\\displaystyle \\tanh{\\left(a x \\right)}$"
      ],
      "text/plain": [
       "tanh(a*x)"
      ]
     },
     "execution_count": 3,
     "metadata": {},
     "output_type": "execute_result"
    }
   ],
   "source": [
    "f=tanh(a*x)\n",
    "f"
   ]
  },
  {
   "cell_type": "code",
   "execution_count": 4,
   "id": "20cb7373",
   "metadata": {},
   "outputs": [
    {
     "data": {
      "text/latex": [
       "$\\displaystyle \\begin{cases} x - \\frac{\\log{\\left(\\tanh{\\left(a x \\right)} + 1 \\right)}}{a} & \\text{for}\\: a \\neq 0 \\\\0 & \\text{otherwise} \\end{cases}$"
      ],
      "text/plain": [
       "Piecewise((x - log(tanh(a*x) + 1)/a, Ne(a, 0)), (0, True))"
      ]
     },
     "execution_count": 4,
     "metadata": {},
     "output_type": "execute_result"
    }
   ],
   "source": [
    "## 对x不定积分\n",
    "f.integrate(x)"
   ]
  },
  {
   "cell_type": "code",
   "execution_count": 5,
   "id": "a3eeb487",
   "metadata": {},
   "outputs": [
    {
     "data": {
      "text/latex": [
       "$\\displaystyle x \\left(1 - \\tanh^{2}{\\left(a x \\right)}\\right)$"
      ],
      "text/plain": [
       "x*(1 - tanh(a*x)**2)"
      ]
     },
     "execution_count": 5,
     "metadata": {},
     "output_type": "execute_result"
    }
   ],
   "source": [
    "##对a求导\n",
    "f.diff(a)"
   ]
  },
  {
   "cell_type": "code",
   "execution_count": 6,
   "id": "b2f3df2b",
   "metadata": {},
   "outputs": [
    {
     "data": {
      "text/latex": [
       "$\\displaystyle \\frac{1}{2 \\cosh^{2}{\\left(\\frac{a}{2} \\right)}}$"
      ],
      "text/plain": [
       "1/(2*cosh(a/2)**2)"
      ]
     },
     "execution_count": 6,
     "metadata": {},
     "output_type": "execute_result"
    }
   ],
   "source": [
    "f.diff(a).subs(x,Rational(1,2)).simplify()"
   ]
  },
  {
   "cell_type": "markdown",
   "id": "4f32fd53",
   "metadata": {},
   "source": [
    "$$"
   ]
  },
  {
   "cell_type": "markdown",
   "id": "3d06bfa0",
   "metadata": {},
   "source": [
    "$$\n",
    "\\int u v' dx=uv-\\int u' v dx\n",
    "$$"
   ]
  },
  {
   "cell_type": "code",
   "execution_count": 7,
   "id": "59fad1f8",
   "metadata": {},
   "outputs": [
    {
     "data": {
      "text/latex": [
       "$\\displaystyle x \\operatorname{atan}{\\left(x \\right)} - \\frac{\\log{\\left(x^{2} + 1 \\right)}}{2}$"
      ],
      "text/plain": [
       "x*atan(x) - log(x**2 + 1)/2"
      ]
     },
     "execution_count": 7,
     "metadata": {},
     "output_type": "execute_result"
    }
   ],
   "source": [
    "atan(x).integrate()"
   ]
  },
  {
   "cell_type": "markdown",
   "id": "3b4daa87",
   "metadata": {},
   "source": []
  },
  {
   "cell_type": "code",
   "execution_count": 9,
   "id": "e26f57ef",
   "metadata": {},
   "outputs": [
    {
     "data": {
      "text/latex": [
       "$\\displaystyle \\int \\operatorname{atan}{\\left(x \\right)}\\, dx$"
      ],
      "text/plain": [
       "Integral(atan(x), x)"
      ]
     },
     "execution_count": 9,
     "metadata": {},
     "output_type": "execute_result"
    }
   ],
   "source": [
    "## 验证分部积分\n",
    "u=atan(x);v=x\n",
    "lhs=Integral(u*v.diff())\n",
    "rhs=u*v-Integral(u.diff()*v)\n",
    "lhs\n",
    "\n"
   ]
  },
  {
   "cell_type": "code",
   "execution_count": 11,
   "id": "f9b675a0",
   "metadata": {},
   "outputs": [
    {
     "data": {
      "text/latex": [
       "$\\displaystyle x \\operatorname{atan}{\\left(x \\right)} - \\int \\frac{x}{x^{2} + 1}\\, dx$"
      ],
      "text/plain": [
       "x*atan(x) - Integral(x/(x**2 + 1), x)"
      ]
     },
     "execution_count": 11,
     "metadata": {},
     "output_type": "execute_result"
    }
   ],
   "source": [
    "rhs"
   ]
  },
  {
   "cell_type": "code",
   "execution_count": 12,
   "id": "73f09713",
   "metadata": {},
   "outputs": [
    {
     "data": {
      "text/latex": [
       "$\\displaystyle 0$"
      ],
      "text/plain": [
       "0"
      ]
     },
     "execution_count": 12,
     "metadata": {},
     "output_type": "execute_result"
    }
   ],
   "source": [
    "(lhs-rhs).simplify()"
   ]
  },
  {
   "cell_type": "code",
   "execution_count": 13,
   "id": "44ac400e",
   "metadata": {},
   "outputs": [
    {
     "data": {
      "text/latex": [
       "$\\displaystyle \\frac{\\sqrt{2} \\left(- \\log{\\left(\\sqrt{2 - \\sqrt{2}} \\left(x + 2\\right) - 2 + 2 \\sqrt{2} \\right)} + \\log{\\left(\\sqrt{2 - \\sqrt{2}} \\left(x + 2\\right) - 2 \\sqrt{2} + 2 \\right)}\\right)}{4 \\sqrt{2 - \\sqrt{2}}}$"
      ],
      "text/plain": [
       "sqrt(2)*(-log(sqrt(2 - sqrt(2))*(x + 2) - 2 + 2*sqrt(2)) + log(sqrt(2 - sqrt(2))*(x + 2) - 2*sqrt(2) + 2))/(4*sqrt(2 - sqrt(2)))"
      ]
     },
     "execution_count": 13,
     "metadata": {},
     "output_type": "execute_result"
    }
   ],
   "source": [
    "Integral(1/(x**2+4*x+b),x).doit().subs(b,2*sqrt(2)).simplify()"
   ]
  },
  {
   "cell_type": "markdown",
   "id": "f923fba9",
   "metadata": {},
   "source": [
    "$$\n",
    "e^{i \\cdot x} \\text{幂级数展开}\n",
    "$$"
   ]
  },
  {
   "cell_type": "markdown",
   "id": "9b0a3262",
   "metadata": {},
   "source": []
  },
  {
   "cell_type": "code",
   "execution_count": 14,
   "id": "56215764",
   "metadata": {},
   "outputs": [
    {
     "data": {
      "text/latex": [
       "$\\displaystyle 1 + i x - \\frac{x^{2}}{2} - \\frac{i x^{3}}{6} + \\frac{x^{4}}{24} + \\frac{i x^{5}}{120} - \\frac{x^{6}}{720} - \\frac{i x^{7}}{5040} + \\frac{x^{8}}{40320} + \\frac{i x^{9}}{362880} - \\frac{x^{10}}{3628800} - \\frac{i x^{11}}{39916800} + O\\left(x^{12}\\right)$"
      ],
      "text/plain": [
       "1 + I*x - x**2/2 - I*x**3/6 + x**4/24 + I*x**5/120 - x**6/720 - I*x**7/5040 + x**8/40320 + I*x**9/362880 - x**10/3628800 - I*x**11/39916800 + O(x**12)"
      ]
     },
     "execution_count": 14,
     "metadata": {},
     "output_type": "execute_result"
    }
   ],
   "source": [
    "(E**(I*x)).series(n=12)"
   ]
  },
  {
   "cell_type": "markdown",
   "id": "84251330",
   "metadata": {},
   "source": [
    "**验证欧拉公式**"
   ]
  },
  {
   "cell_type": "code",
   "execution_count": 15,
   "id": "b2f570c2",
   "metadata": {},
   "outputs": [
    {
     "data": {
      "text/latex": [
       "$\\displaystyle x - \\frac{x^{3}}{6} + \\frac{x^{5}}{120} - \\frac{x^{7}}{5040} + \\frac{x^{9}}{362880} - \\frac{x^{11}}{39916800} + O\\left(x^{12}\\right)$"
      ],
      "text/plain": [
       "x - x**3/6 + x**5/120 - x**7/5040 + x**9/362880 - x**11/39916800 + O(x**12)"
      ]
     },
     "execution_count": 15,
     "metadata": {},
     "output_type": "execute_result"
    }
   ],
   "source": [
    "sin(x).series(n=12)"
   ]
  },
  {
   "cell_type": "code",
   "execution_count": 16,
   "id": "90aff123",
   "metadata": {},
   "outputs": [
    {
     "data": {
      "text/latex": [
       "$\\displaystyle 1 - \\frac{x^{2}}{2} + \\frac{x^{4}}{24} - \\frac{x^{6}}{720} + \\frac{x^{8}}{40320} - \\frac{x^{10}}{3628800} + O\\left(x^{12}\\right)$"
      ],
      "text/plain": [
       "1 - x**2/2 + x**4/24 - x**6/720 + x**8/40320 - x**10/3628800 + O(x**12)"
      ]
     },
     "execution_count": 16,
     "metadata": {},
     "output_type": "execute_result"
    }
   ],
   "source": [
    "cos(x).series(n=12)"
   ]
  },
  {
   "cell_type": "markdown",
   "id": "8bb6b121",
   "metadata": {},
   "source": [
    "**量子计算**"
   ]
  },
  {
   "cell_type": "code",
   "execution_count": 17,
   "id": "7ca52d7a",
   "metadata": {},
   "outputs": [
    {
     "data": {
      "text/latex": [
       "$\\displaystyle \\left[\\begin{matrix}a & a\\\\a & - a\\end{matrix}\\right]$"
      ],
      "text/plain": [
       "Matrix([\n",
       "[a,  a],\n",
       "[a, -a]])"
      ]
     },
     "execution_count": 17,
     "metadata": {},
     "output_type": "execute_result"
    }
   ],
   "source": [
    "H2=Matrix([[1,1],[1,-1]])*a\n",
    "H2"
   ]
  },
  {
   "cell_type": "code",
   "execution_count": null,
   "id": "a46b7ddb",
   "metadata": {},
   "outputs": [
    {
     "data": {
      "text/latex": [
       "$\\displaystyle \\left[\\begin{matrix}a^{2} & a^{2} & a^{2} & a^{2}\\\\a^{2} & - a^{2} & a^{2} & - a^{2}\\\\a^{2} & a^{2} & - a^{2} & - a^{2}\\\\a^{2} & - a^{2} & - a^{2} & a^{2}\\end{matrix}\\right]$"
      ],
      "text/plain": [
       "Matrix([\n",
       "[a**2,  a**2,  a**2,  a**2],\n",
       "[a**2, -a**2,  a**2, -a**2],\n",
       "[a**2,  a**2, -a**2, -a**2],\n",
       "[a**2, -a**2, -a**2,  a**2]])"
      ]
     },
     "execution_count": 18,
     "metadata": {},
     "output_type": "execute_result"
    }
   ],
   "source": [
    "H4=kronecker_product(H2,H2) ##tensor product\n",
    "H4"
   ]
  },
  {
   "cell_type": "code",
   "execution_count": null,
   "id": "108d8daf",
   "metadata": {},
   "outputs": [
    {
     "data": {
      "text/latex": [
       "$\\displaystyle \\left[\\begin{matrix}- 2 a^{2} & 0 & 0 & 0\\\\0 & - 2 a^{2} & 0 & 0\\\\0 & 0 & 2 a^{2} & 0\\\\0 & 0 & 0 & 2 a^{2}\\end{matrix}\\right]$"
      ],
      "text/plain": [
       "Matrix([\n",
       "[-2*a**2,       0,      0,      0],\n",
       "[      0, -2*a**2,      0,      0],\n",
       "[      0,       0, 2*a**2,      0],\n",
       "[      0,       0,      0, 2*a**2]])"
      ]
     },
     "execution_count": 20,
     "metadata": {},
     "output_type": "execute_result"
    }
   ],
   "source": [
    "U,S=H4.diagonalize() #矩阵对角化\n",
    "S"
   ]
  },
  {
   "cell_type": "code",
   "execution_count": 22,
   "id": "f7c0f9e7",
   "metadata": {},
   "outputs": [
    {
     "data": {
      "text/latex": [
       "$\\displaystyle \\left[\\begin{matrix}\\frac{1}{2} & \\frac{1}{2} & \\frac{1}{2} & \\frac{1}{2}\\\\\\frac{1}{2} & - \\frac{1}{2} & \\frac{1}{2} & - \\frac{1}{2}\\\\\\frac{1}{2} & \\frac{1}{2} & - \\frac{1}{2} & - \\frac{1}{2}\\\\\\frac{1}{2} & - \\frac{1}{2} & - \\frac{1}{2} & \\frac{1}{2}\\end{matrix}\\right]$"
      ],
      "text/plain": [
       "Matrix([\n",
       "[1/2,  1/2,  1/2,  1/2],\n",
       "[1/2, -1/2,  1/2, -1/2],\n",
       "[1/2,  1/2, -1/2, -1/2],\n",
       "[1/2, -1/2, -1/2,  1/2]])"
      ]
     },
     "execution_count": 22,
     "metadata": {},
     "output_type": "execute_result"
    }
   ],
   "source": [
    "H4=H4.subs(a,1/sqrt(2))\n",
    "s0=Matrix([0,0,0,1])\n",
    "s1=Matrix([0,0,1,0])\n",
    "s2=Matrix([0,1,0,0])\n",
    "s3=Matrix([1,0,0,0])\n",
    "H4"
   ]
  },
  {
   "cell_type": "code",
   "execution_count": 23,
   "id": "bf97b7e5",
   "metadata": {},
   "outputs": [
    {
     "data": {
      "text/latex": [
       "$\\displaystyle \\left[\\begin{matrix}\\frac{1}{2}\\\\- \\frac{1}{2}\\\\- \\frac{1}{2}\\\\\\frac{1}{2}\\end{matrix}\\right]$"
      ],
      "text/plain": [
       "Matrix([\n",
       "[ 1/2],\n",
       "[-1/2],\n",
       "[-1/2],\n",
       "[ 1/2]])"
      ]
     },
     "execution_count": 23,
     "metadata": {},
     "output_type": "execute_result"
    }
   ],
   "source": [
    "H4*s0"
   ]
  },
  {
   "cell_type": "code",
   "execution_count": 24,
   "id": "dc77a254",
   "metadata": {},
   "outputs": [
    {
     "name": "stderr",
     "output_type": "stream",
     "text": [
      "<>:5: SyntaxWarning: invalid escape sequence '\\p'\n",
      "<>:5: SyntaxWarning: invalid escape sequence '\\p'\n",
      "C:\\Users\\36317\\AppData\\Local\\Temp\\ipykernel_2764\\4158922495.py:5: SyntaxWarning: invalid escape sequence '\\p'\n",
      "  circuitplot.CircuitPlot(circuit,3,labels=[0,0,'\\psi'])\n"
     ]
    },
    {
     "data": {
      "text/plain": [
       "<sympy.physics.quantum.circuitplot.CircuitPlot at 0x18f3df370e0>"
      ]
     },
     "execution_count": 24,
     "metadata": {},
     "output_type": "execute_result"
    },
    {
     "data": {
      "image/png": "[encoded data removed]",
      "text/plain": [
       "<Figure size 600x300 with 1 Axes>"
      ]
     },
     "metadata": {},
     "output_type": "display_data"
    }
   ],
   "source": [
    "from sympy.physics.quantum import circuitplot\n",
    "from sympy.physics.quantum.gate import *\n",
    "\n",
    "circuit=X(0)*Z(0)*H(2)*CNOT(2,1)*CNOT(1,0)*H(1)\n",
    "circuitplot.CircuitPlot(circuit,3,labels=[0,0,'\\psi'])"
   ]
  },
  {
   "cell_type": "code",
   "execution_count": null,
   "id": "08297a06",
   "metadata": {},
   "outputs": [],
   "source": [
    "\n"
   ]
  }
 ],
 "metadata": {
  "kernelspec": {
   "display_name": "data",
   "language": "python",
   "name": "python3"
  },
  "language_info": {
   "codemirror_mode": {
    "name": "ipython",
    "version": 3
   },
   "file_extension": ".py",
   "mimetype": "text/x-python",
   "name": "python",
   "nbconvert_exporter": "python",
   "pygments_lexer": "ipython3",
   "version": "3.13.3"
  }
 },
 "nbformat": 4,
 "nbformat_minor": 5
}
