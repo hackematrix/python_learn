{
 "cells": [
  {
   "cell_type": "code",
   "execution_count": 15,
   "id": "aaa45acc",
   "metadata": {},
   "outputs": [],
   "source": [
    "\"\"\"导入numpy\"\"\"\n",
    "import numpy as np\n",
    "\n"
   ]
  },
  {
   "cell_type": "markdown",
   "id": "9cd2651d",
   "metadata": {},
   "source": [
    "### 一维数组\n"
   ]
  },
  {
   "cell_type": "markdown",
   "id": "0c8a9364",
   "metadata": {},
   "source": []
  },
  {
   "cell_type": "code",
   "execution_count": 22,
   "id": "bd645208",
   "metadata": {},
   "outputs": [
    {
     "name": "stdout",
     "output_type": "stream",
     "text": [
      "[5 3 3 4 1 2]\n",
      "[5 5 1 1 0 3]\n"
     ]
    }
   ],
   "source": [
    "day1=np.array([5,3,3,4,1,2],dtype=int)\n",
    "day2=np.array([5,5,1,1,0,3],dtype=int)\n",
    "print(day1)\n",
    "print(day2)"
   ]
  },
  {
   "cell_type": "code",
   "execution_count": 17,
   "id": "8538545c",
   "metadata": {},
   "outputs": [
    {
     "name": "stdout",
     "output_type": "stream",
     "text": [
      "[1 1 1 1 1 1]\n",
      "[0 0 0 0 0 0]\n"
     ]
    }
   ],
   "source": [
    "\"\"\"全零或者全1数组\"\"\"\n",
    "\n",
    "day3=np.ones(6,dtype=int)\n",
    "day4=np.zeros(6,dtype=int)\n",
    "\n",
    "print(day3)\n",
    "print(day4)"
   ]
  },
  {
   "cell_type": "markdown",
   "id": "440de6dd",
   "metadata": {},
   "source": [
    "#### 索引和切片\n",
    "\n"
   ]
  },
  {
   "cell_type": "code",
   "execution_count": 11,
   "id": "bdff044a",
   "metadata": {},
   "outputs": [
    {
     "name": "stdout",
     "output_type": "stream",
     "text": [
      "2\n",
      "[5 3 3 4]\n"
     ]
    }
   ],
   "source": [
    "day1=np.array([5,3,3,4,1,2],dtype=int)\n",
    "print(day1[-1])\n",
    "print(day1[:4])"
   ]
  },
  {
   "cell_type": "markdown",
   "id": "576141bf",
   "metadata": {},
   "source": [
    "##### 一维数组的基本统计量"
   ]
  },
  {
   "cell_type": "markdown",
   "id": "20cac7c4",
   "metadata": {},
   "source": [
    "**有什么统计量，求和sum,求最大值max,求最小值min,求平均值mean,求中位数median,求极差ptp,求标准差std，求方差var**"
   ]
  },
  {
   "cell_type": "code",
   "execution_count": 18,
   "id": "53646e62",
   "metadata": {},
   "outputs": [
    {
     "name": "stdout",
     "output_type": "stream",
     "text": [
      "6\n"
     ]
    }
   ],
   "source": [
    "two_day=day1+day2\n",
    "dinner_time=two_day[4:]\n",
    "print(np.sum(dinner_time))  #求和 "
   ]
  },
  {
   "cell_type": "code",
   "execution_count": 23,
   "id": "e67ac13f",
   "metadata": {},
   "outputs": [
    {
     "name": "stdout",
     "output_type": "stream",
     "text": [
      "[10  8  4  5  1  5]\n",
      "5.5\n",
      "9\n",
      "5.0\n"
     ]
    }
   ],
   "source": [
    "print(two_day)\n",
    "print(np.mean(two_day)) #平均值\n",
    "print(np.ptp(two_day)) #极差\n",
    "print(np.median(two_day)) #中位数"
   ]
  },
  {
   "cell_type": "markdown",
   "id": "e3e32d42",
   "metadata": {},
   "source": [
    "**多维数组**"
   ]
  },
  {
   "cell_type": "code",
   "execution_count": 24,
   "id": "27ebb3a3",
   "metadata": {},
   "outputs": [
    {
     "name": "stdout",
     "output_type": "stream",
     "text": [
      "[[5 3 3 4 1 2]\n",
      " [5 5 1 1 3 3]]\n"
     ]
    }
   ],
   "source": [
    "first_two_day=np.array([[5,3,3,4,1,2],[5,5,1,1,3,3]])\n",
    "print(first_two_day)"
   ]
  },
  {
   "cell_type": "code",
   "execution_count": 25,
   "id": "bba9852b",
   "metadata": {},
   "outputs": [
    {
     "name": "stdout",
     "output_type": "stream",
     "text": [
      "[[0. 0. 0. 0. 0. 0.]\n",
      " [0. 0. 0. 0. 0. 0.]]\n",
      "[[1. 1. 1. 1. 1. 1.]\n",
      " [1. 1. 1. 1. 1. 1.]]\n"
     ]
    }
   ],
   "source": [
    "second_two_day=np.zeros((2,6))\n",
    "thrid_two_day=np.ones((2,6))\n",
    "print(second_two_day)\n",
    "print(thrid_two_day)"
   ]
  },
  {
   "cell_type": "markdown",
   "id": "fe1157c6",
   "metadata": {},
   "source": [
    "**多维数组的维度**"
   ]
  },
  {
   "cell_type": "code",
   "execution_count": 27,
   "id": "8ce14a86",
   "metadata": {},
   "outputs": [
    {
     "name": "stdout",
     "output_type": "stream",
     "text": [
      "维度是2\n",
      "多维数组的形状是(2, 6)\n",
      "多维数组元素的个数12\n",
      "多维数组元素的类型int64\n"
     ]
    }
   ],
   "source": [
    "dim=first_two_day.ndim\n",
    "print(f\"维度是{dim}\")\n",
    "\n",
    "matrix_shape=first_two_day.shape\n",
    "print(f\"多维数组的形状是{matrix_shape}\")\n",
    "\n",
    "matrix_size=first_two_day.size\n",
    "print(f\"多维数组元素的个数{matrix_size}\")\n",
    "\n",
    "matrix_dtype=first_two_day.dtype\n",
    "print(f\"多维数组元素的类型{matrix_dtype}\")"
   ]
  },
  {
   "cell_type": "markdown",
   "id": "e253f34f",
   "metadata": {},
   "source": [
    "**二维数组的统计量**"
   ]
  },
  {
   "cell_type": "code",
   "execution_count": 28,
   "id": "792e4257",
   "metadata": {},
   "outputs": [
    {
     "name": "stdout",
     "output_type": "stream",
     "text": [
      "[[5 3 3 4 1 2]\n",
      " [5 5 1 1 3 3]]\n",
      "36\n",
      "5\n"
     ]
    }
   ],
   "source": [
    "print(first_two_day)\n",
    "print(np.sum(first_two_day)) #求和\n",
    "print(np.max(first_two_day)) #求最大值"
   ]
  },
  {
   "cell_type": "code",
   "execution_count": null,
   "id": "3ad1589b",
   "metadata": {},
   "outputs": [
    {
     "name": "stdout",
     "output_type": "stream",
     "text": [
      "[10  8  4  5  4  5]\n",
      "[18 18]\n"
     ]
    }
   ],
   "source": [
    "print(np.sum(first_two_day,axis=0)) #对行求和\n",
    "print(np.sum(first_two_day,axis=1)) #对列求和"
   ]
  },
  {
   "cell_type": "code",
   "execution_count": 35,
   "id": "a3840945",
   "metadata": {},
   "outputs": [
    {
     "name": "stdout",
     "output_type": "stream",
     "text": [
      "[[1 2]\n",
      " [3 3]]\n"
     ]
    }
   ],
   "source": [
    "print(first_two_day[0:,-2:])"
   ]
  },
  {
   "cell_type": "markdown",
   "id": "fafdde2e",
   "metadata": {},
   "source": [
    "**random.randin模块**"
   ]
  },
  {
   "cell_type": "code",
   "execution_count": 39,
   "id": "df6ca3d6",
   "metadata": {},
   "outputs": [
    {
     "name": "stdout",
     "output_type": "stream",
     "text": [
      "3\n",
      "[5 4]\n",
      "[[1 5 1 3 4 5]\n",
      " [2 2 1 3 3 3]]\n"
     ]
    }
   ],
   "source": [
    "print(np.random.randint(1,6))\n",
    "print(np.random.randint(1,6,2))\n",
    "print(np.random.randint(1,6,(2,6)))"
   ]
  },
  {
   "cell_type": "markdown",
   "id": "47dc1993",
   "metadata": {},
   "source": [
    "**生成0-1的小数**"
   ]
  },
  {
   "cell_type": "code",
   "execution_count": 43,
   "id": "37bc5c26",
   "metadata": {},
   "outputs": [
    {
     "name": "stdout",
     "output_type": "stream",
     "text": [
      "0.7192842453981138\n",
      "[0.10899812 0.619859  ]\n",
      "[[0.04715051 0.90946704 0.69410609 0.832103   0.15025075 0.11397986]\n",
      " [0.90998331 0.20143601 0.11496867 0.34531654 0.43020548 0.09496487]]\n"
     ]
    }
   ],
   "source": [
    "print(np.random.rand())\n",
    "print(np.random.rand(2))\n",
    "print(np.random.rand(2,6))"
   ]
  },
  {
   "cell_type": "markdown",
   "id": "acfbf633",
   "metadata": {},
   "source": [
    "**arange()方法**"
   ]
  },
  {
   "cell_type": "code",
   "execution_count": 46,
   "id": "8643e243",
   "metadata": {},
   "outputs": [
    {
     "name": "stdout",
     "output_type": "stream",
     "text": [
      "[1 2 3 4 5 6 7 8 9]\n",
      "[1 3 5 7 9]\n",
      "13260\n"
     ]
    }
   ],
   "source": [
    "array_1=np.arange(1,10)\n",
    "print(array_1)\n",
    "\n",
    "array_2=np.arange(1,10,2)\n",
    "print(array_2)\n",
    "\n",
    "piggy_bank=0\n",
    "for _ in np.arange(10,520,10):\n",
    "    piggy_bank+=_\n",
    "print(piggy_bank)    "
   ]
  },
  {
   "cell_type": "markdown",
   "id": "f638c164",
   "metadata": {},
   "source": [
    "**pandas**"
   ]
  },
  {
   "cell_type": "code",
   "execution_count": 47,
   "id": "98a62284",
   "metadata": {},
   "outputs": [],
   "source": [
    "import pandas as pd\n",
    "\n"
   ]
  },
  {
   "cell_type": "code",
   "execution_count": null,
   "id": "3215017d",
   "metadata": {},
   "outputs": [
    {
     "name": "stdout",
     "output_type": "stream",
     "text": [
      "拿铁       14\n",
      "焦糖玛奇朵     7\n",
      "可乐        8\n",
      "华大饼      10\n",
      "dtype: int64\n"
     ]
    }
   ],
   "source": [
    "#写法1\n",
    "print(pd.Series([14,7,8,10],index=[\"拿铁\",\"焦糖玛奇朵\",\"可乐\",\"华大饼\"]))\n"
   ]
  },
  {
   "cell_type": "code",
   "execution_count": 49,
   "id": "a030ed18",
   "metadata": {},
   "outputs": [
    {
     "name": "stdout",
     "output_type": "stream",
     "text": [
      "拿铁       14\n",
      "焦糖玛奇朵     7\n",
      "可乐        8\n",
      "华大饼      10\n",
      "dtype: int64\n"
     ]
    }
   ],
   "source": [
    "#写法2\n",
    "print(pd.Series({\"拿铁\":14,\"焦糖玛奇朵\":7,\"可乐\":8,\"华大饼\":10}))\n"
   ]
  },
  {
   "cell_type": "code",
   "execution_count": 51,
   "id": "7cbe939f",
   "metadata": {},
   "outputs": [
    {
     "name": "stderr",
     "output_type": "stream",
     "text": [
      "C:\\Users\\36317\\AppData\\Local\\Temp\\ipykernel_16248\\1420841353.py:2: FutureWarning: Series.__getitem__ treating keys as positions is deprecated. In a future version, integer keys will always be treated as labels (consistent with DataFrame behavior). To access a value by position, use `ser.iloc[pos]`\n",
      "  shop1[0]\n"
     ]
    },
    {
     "data": {
      "text/plain": [
       "np.int64(14)"
      ]
     },
     "execution_count": 51,
     "metadata": {},
     "output_type": "execute_result"
    }
   ],
   "source": [
    "shop1=pd.Series({\"拿铁\":14,\"焦糖玛奇朵\":7,\"可乐\":8,\"华大饼\":10})\n",
    "shop1[0]"
   ]
  },
  {
   "cell_type": "code",
   "execution_count": 52,
   "id": "f58912be",
   "metadata": {},
   "outputs": [
    {
     "name": "stdout",
     "output_type": "stream",
     "text": [
      "冰淇淋       6.0\n",
      "华大饼      10.0\n",
      "可乐        8.0\n",
      "拿铁       34.0\n",
      "焦糖玛奇朵    10.0\n",
      "雪碧       13.0\n",
      "dtype: float64\n"
     ]
    }
   ],
   "source": [
    "shop1=pd.Series({\"拿铁\":14,\"焦糖玛奇朵\":7,\"可乐\":8,\"华大饼\":10})\n",
    "shop2=pd.Series({\"拿铁\":20,\"焦糖玛奇朵\":3,\"雪碧\":13,\"冰淇淋\":6})\n",
    "\n",
    "sum_shop=shop1.add(shop2,fill_value=0)\n",
    "print(sum_shop)"
   ]
  },
  {
   "cell_type": "markdown",
   "id": "20300559",
   "metadata": {},
   "source": [
    "**减法sub(),加法add(),除法div(),乘法mul()**"
   ]
  },
  {
   "cell_type": "markdown",
   "id": "83237f09",
   "metadata": {},
   "source": [
    "**DataFrame数据表格**"
   ]
  },
  {
   "cell_type": "code",
   "execution_count": 53,
   "id": "667b156b",
   "metadata": {},
   "outputs": [
    {
     "name": "stdout",
     "output_type": "stream",
     "text": [
      "   拿铁  焦糖玛奇朵  可乐  华夫饼\n",
      "0  14      7   8   10\n",
      "1  20      3  13    6\n"
     ]
    }
   ],
   "source": [
    "shop_shanghai=pd.DataFrame({\"拿铁\":[14,20],\"焦糖玛奇朵\":[7,3],\"可乐\":[8,13],\"华夫饼\":[10,6]})\n",
    "print(shop_shanghai)"
   ]
  },
  {
   "cell_type": "code",
   "execution_count": 56,
   "id": "26160d6b",
   "metadata": {},
   "outputs": [
    {
     "name": "stdout",
     "output_type": "stream",
     "text": [
      "       拿铁  焦糖玛奇朵  可乐  华夫饼\n",
      "shop1    14           7     8      10\n",
      "shop2    20           3    13       6\n"
     ]
    }
   ],
   "source": [
    "#对齐\n",
    "pd.set_option('display.unicode.ambiguous_as_wide',True)\n",
    "pd.set_option('display.unicode.east_asian_width',True)\n",
    "shop_shanghai=pd.DataFrame({\"拿铁\":[14,20],\"焦糖玛奇朵\":[7,3],\"可乐\":[8,13],\"华夫饼\":[10,6]},index=['shop1','shop2'])\n",
    "print(shop_shanghai)"
   ]
  },
  {
   "cell_type": "code",
   "execution_count": null,
   "id": "a829223d",
   "metadata": {},
   "outputs": [],
   "source": []
  },
  {
   "cell_type": "code",
   "execution_count": 57,
   "id": "a724d9c3",
   "metadata": {},
   "outputs": [
    {
     "name": "stdout",
     "output_type": "stream",
     "text": [
      "       拿铁  焦糖玛奇朵  华夫饼\n",
      "shop1    14           7      10\n",
      "shop2    20           3       6\n"
     ]
    }
   ],
   "source": [
    "#删除行\n",
    "shop_shanghai.drop('可乐',axis=1,inplace=True)\n",
    "print(shop_shanghai)"
   ]
  },
  {
   "cell_type": "code",
   "execution_count": 60,
   "id": "143f3894",
   "metadata": {},
   "outputs": [
    {
     "name": "stdout",
     "output_type": "stream",
     "text": [
      "拿铁          14\n",
      "焦糖玛奇朵     7\n",
      "华夫饼        10\n",
      "Name: shop1, dtype: int64\n"
     ]
    }
   ],
   "source": [
    "#DataFrame行的增删查改\n",
    "print(shop_shanghai.loc['shop1'])"
   ]
  },
  {
   "cell_type": "code",
   "execution_count": 61,
   "id": "2291e8ff",
   "metadata": {},
   "outputs": [
    {
     "name": "stdout",
     "output_type": "stream",
     "text": [
      "拿铁          14\n",
      "焦糖玛奇朵     7\n",
      "Name: shop1, dtype: int64\n"
     ]
    }
   ],
   "source": [
    "print(shop_shanghai.loc['shop1','拿铁':'焦糖玛奇朵'])\n"
   ]
  },
  {
   "cell_type": "code",
   "execution_count": 62,
   "id": "924d838f",
   "metadata": {},
   "outputs": [
    {
     "name": "stdout",
     "output_type": "stream",
     "text": [
      "    ID    姓名  年龄    城市  分数\n",
      "0    1    李明    35    北京  85.2\n",
      "1    2    王芳    28    上海  92.5\n",
      "2    3    张伟    45    广州  78.9\n",
      "3    4  刘秀梅    22    深圳  65.7\n",
      "4    5    陈刚    51    杭州  90.1\n",
      "5    6    杨丽    31    南京  72.3\n",
      "6    7    赵勇    40    成都  88.6\n",
      "7    8    周洁    25    武汉  75.9\n",
      "8    9    孙涛    48    天津  69.4\n",
      "9   10  郑秀兰    38    重庆  81.7\n",
      "10  11    林强    29    西安  95.0\n",
      "11  12    郭静    42    苏州  70.5\n",
      "12  13    马军    33    沈阳  83.2\n",
      "13  14    唐红    27    青岛  67.8\n",
      "14  15    徐鹏    55    长沙  91.3\n",
      "15  16    宋艳    39    宁波  77.1\n",
      "16  17    冯辉    24    郑州  86.4\n",
      "17  18    于洋    47    济南  73.6\n",
      "18  19  潘丽丽    30  哈尔滨  62.9\n",
      "19  20    曾凡    43    长春  89.8\n",
      "20  21    蔡霞    26    大连  79.2\n",
      "21  22    杜飞    52    合肥  66.5\n",
      "22  23    任静    37    福州  93.7\n",
      "23  24    丁健    23  石家庄  71.0\n",
      "24  25    梁爽    49    昆明  84.3\n",
      "25  26    崔杰    34    无锡  68.1\n",
      "26  27  姜桂兰    41    太原  96.9\n",
      "27  28    贾亮    29    南昌  74.4\n",
      "28  29    叶文    58    南宁  80.7\n",
      "29  30    董娜    36    常州  64.0\n"
     ]
    }
   ],
   "source": [
    "# 将csv导入\n",
    "import numpy as np\n",
    "import pandas as pd\n",
    "demo_data=\"D:\\\\piture\\\\demo.csv\"\n",
    "data=pd.read_csv(demo_data)\n",
    "print(data)\n"
   ]
  },
  {
   "cell_type": "code",
   "execution_count": 63,
   "id": "45d050cd",
   "metadata": {},
   "outputs": [
    {
     "name": "stdout",
     "output_type": "stream",
     "text": [
      "   ID    姓名  年龄  城市  分数\n",
      "0   1    李明    35  北京  85.2\n",
      "1   2    王芳    28  上海  92.5\n",
      "2   3    张伟    45  广州  78.9\n",
      "3   4  刘秀梅    22  深圳  65.7\n",
      "4   5    陈刚    51  杭州  90.1\n",
      "5   6    杨丽    31  南京  72.3\n",
      "6   7    赵勇    40  成都  88.6\n",
      "    ID    姓名  年龄  城市  分数\n",
      "26  27  姜桂兰    41  太原  96.9\n",
      "27  28    贾亮    29  南昌  74.4\n",
      "28  29    叶文    58  南宁  80.7\n",
      "29  30    董娜    36  常州  64.0\n"
     ]
    }
   ],
   "source": [
    "print(data.head(7))\n",
    "print(data.tail(4))"
   ]
  },
  {
   "cell_type": "code",
   "execution_count": 64,
   "id": "6d1ef974",
   "metadata": {},
   "outputs": [
    {
     "name": "stdout",
     "output_type": "stream",
     "text": [
      "<class 'pandas.core.frame.DataFrame'>\n",
      "RangeIndex: 30 entries, 0 to 29\n",
      "Data columns (total 5 columns):\n",
      " #   Column  Non-Null Count  Dtype  \n",
      "---  ------  --------------  -----  \n",
      " 0   ID      30 non-null     int64  \n",
      " 1   姓名      30 non-null     object \n",
      " 2   年龄      30 non-null     int64  \n",
      " 3   城市      30 non-null     object \n",
      " 4   分数      30 non-null     float64\n",
      "dtypes: float64(1), int64(2), object(2)\n",
      "memory usage: 1.3+ KB\n",
      "None\n"
     ]
    }
   ],
   "source": [
    "#表格的大致信息\n",
    "print(data.info())"
   ]
  },
  {
   "cell_type": "code",
   "execution_count": 68,
   "id": "1b3f27a4",
   "metadata": {},
   "outputs": [
    {
     "data": {
      "text/html": [
       "<div>\n",
       "<style scoped>\n",
       "    .dataframe tbody tr th:only-of-type {\n",
       "        vertical-align: middle;\n",
       "    }\n",
       "\n",
       "    .dataframe tbody tr th {\n",
       "        vertical-align: top;\n",
       "    }\n",
       "\n",
       "    .dataframe thead th {\n",
       "        text-align: right;\n",
       "    }\n",
       "</style>\n",
       "<table border=\"1\" class=\"dataframe\">\n",
       "  <thead>\n",
       "    <tr style=\"text-align: right;\">\n",
       "      <th></th>\n",
       "      <th>ID</th>\n",
       "      <th>姓名</th>\n",
       "      <th>年龄</th>\n",
       "      <th>城市</th>\n",
       "      <th>分数</th>\n",
       "    </tr>\n",
       "  </thead>\n",
       "  <tbody>\n",
       "    <tr>\n",
       "      <th>13</th>\n",
       "      <td>14</td>\n",
       "      <td>唐红</td>\n",
       "      <td>27</td>\n",
       "      <td>青岛</td>\n",
       "      <td>67.8</td>\n",
       "    </tr>\n",
       "    <tr>\n",
       "      <th>21</th>\n",
       "      <td>22</td>\n",
       "      <td>杜飞</td>\n",
       "      <td>52</td>\n",
       "      <td>合肥</td>\n",
       "      <td>66.5</td>\n",
       "    </tr>\n",
       "    <tr>\n",
       "      <th>3</th>\n",
       "      <td>4</td>\n",
       "      <td>刘秀梅</td>\n",
       "      <td>22</td>\n",
       "      <td>深圳</td>\n",
       "      <td>65.7</td>\n",
       "    </tr>\n",
       "    <tr>\n",
       "      <th>29</th>\n",
       "      <td>30</td>\n",
       "      <td>董娜</td>\n",
       "      <td>36</td>\n",
       "      <td>常州</td>\n",
       "      <td>64.0</td>\n",
       "    </tr>\n",
       "    <tr>\n",
       "      <th>18</th>\n",
       "      <td>19</td>\n",
       "      <td>潘丽丽</td>\n",
       "      <td>30</td>\n",
       "      <td>哈尔滨</td>\n",
       "      <td>62.9</td>\n",
       "    </tr>\n",
       "  </tbody>\n",
       "</table>\n",
       "</div>"
      ],
      "text/plain": [
       "    ID    姓名  年龄    城市  分数\n",
       "13  14    唐红    27    青岛  67.8\n",
       "21  22    杜飞    52    合肥  66.5\n",
       "3    4  刘秀梅    22    深圳  65.7\n",
       "29  30    董娜    36    常州  64.0\n",
       "18  19  潘丽丽    30  哈尔滨  62.9"
      ]
     },
     "execution_count": 68,
     "metadata": {},
     "output_type": "execute_result"
    }
   ],
   "source": [
    "data.sort_values('分数',ascending=False,inplace=True)\n",
    "data.tail(5)"
   ]
  },
  {
   "cell_type": "code",
   "execution_count": 70,
   "id": "201eede4",
   "metadata": {},
   "outputs": [
    {
     "data": {
      "text/html": [
       "<div>\n",
       "<style scoped>\n",
       "    .dataframe tbody tr th:only-of-type {\n",
       "        vertical-align: middle;\n",
       "    }\n",
       "\n",
       "    .dataframe tbody tr th {\n",
       "        vertical-align: top;\n",
       "    }\n",
       "\n",
       "    .dataframe thead th {\n",
       "        text-align: right;\n",
       "    }\n",
       "</style>\n",
       "<table border=\"1\" class=\"dataframe\">\n",
       "  <thead>\n",
       "    <tr style=\"text-align: right;\">\n",
       "      <th></th>\n",
       "      <th>ID</th>\n",
       "      <th>姓名</th>\n",
       "      <th>年龄</th>\n",
       "      <th>城市</th>\n",
       "      <th>分数</th>\n",
       "    </tr>\n",
       "  </thead>\n",
       "  <tbody>\n",
       "    <tr>\n",
       "      <th>20</th>\n",
       "      <td>21</td>\n",
       "      <td>蔡霞</td>\n",
       "      <td>26</td>\n",
       "      <td>大连</td>\n",
       "      <td>79.2</td>\n",
       "    </tr>\n",
       "    <tr>\n",
       "      <th>2</th>\n",
       "      <td>3</td>\n",
       "      <td>张伟</td>\n",
       "      <td>45</td>\n",
       "      <td>广州</td>\n",
       "      <td>78.9</td>\n",
       "    </tr>\n",
       "    <tr>\n",
       "      <th>15</th>\n",
       "      <td>16</td>\n",
       "      <td>宋艳</td>\n",
       "      <td>39</td>\n",
       "      <td>宁波</td>\n",
       "      <td>77.1</td>\n",
       "    </tr>\n",
       "    <tr>\n",
       "      <th>7</th>\n",
       "      <td>8</td>\n",
       "      <td>周洁</td>\n",
       "      <td>25</td>\n",
       "      <td>武汉</td>\n",
       "      <td>75.9</td>\n",
       "    </tr>\n",
       "    <tr>\n",
       "      <th>27</th>\n",
       "      <td>28</td>\n",
       "      <td>贾亮</td>\n",
       "      <td>29</td>\n",
       "      <td>南昌</td>\n",
       "      <td>74.4</td>\n",
       "    </tr>\n",
       "    <tr>\n",
       "      <th>17</th>\n",
       "      <td>18</td>\n",
       "      <td>于洋</td>\n",
       "      <td>47</td>\n",
       "      <td>济南</td>\n",
       "      <td>73.6</td>\n",
       "    </tr>\n",
       "    <tr>\n",
       "      <th>5</th>\n",
       "      <td>6</td>\n",
       "      <td>杨丽</td>\n",
       "      <td>31</td>\n",
       "      <td>南京</td>\n",
       "      <td>72.3</td>\n",
       "    </tr>\n",
       "    <tr>\n",
       "      <th>23</th>\n",
       "      <td>24</td>\n",
       "      <td>丁健</td>\n",
       "      <td>23</td>\n",
       "      <td>石家庄</td>\n",
       "      <td>71.0</td>\n",
       "    </tr>\n",
       "    <tr>\n",
       "      <th>11</th>\n",
       "      <td>12</td>\n",
       "      <td>郭静</td>\n",
       "      <td>42</td>\n",
       "      <td>苏州</td>\n",
       "      <td>70.5</td>\n",
       "    </tr>\n",
       "    <tr>\n",
       "      <th>8</th>\n",
       "      <td>9</td>\n",
       "      <td>孙涛</td>\n",
       "      <td>48</td>\n",
       "      <td>天津</td>\n",
       "      <td>69.4</td>\n",
       "    </tr>\n",
       "    <tr>\n",
       "      <th>25</th>\n",
       "      <td>26</td>\n",
       "      <td>崔杰</td>\n",
       "      <td>34</td>\n",
       "      <td>无锡</td>\n",
       "      <td>68.1</td>\n",
       "    </tr>\n",
       "    <tr>\n",
       "      <th>13</th>\n",
       "      <td>14</td>\n",
       "      <td>唐红</td>\n",
       "      <td>27</td>\n",
       "      <td>青岛</td>\n",
       "      <td>67.8</td>\n",
       "    </tr>\n",
       "    <tr>\n",
       "      <th>21</th>\n",
       "      <td>22</td>\n",
       "      <td>杜飞</td>\n",
       "      <td>52</td>\n",
       "      <td>合肥</td>\n",
       "      <td>66.5</td>\n",
       "    </tr>\n",
       "    <tr>\n",
       "      <th>3</th>\n",
       "      <td>4</td>\n",
       "      <td>刘秀梅</td>\n",
       "      <td>22</td>\n",
       "      <td>深圳</td>\n",
       "      <td>65.7</td>\n",
       "    </tr>\n",
       "    <tr>\n",
       "      <th>29</th>\n",
       "      <td>30</td>\n",
       "      <td>董娜</td>\n",
       "      <td>36</td>\n",
       "      <td>常州</td>\n",
       "      <td>64.0</td>\n",
       "    </tr>\n",
       "    <tr>\n",
       "      <th>18</th>\n",
       "      <td>19</td>\n",
       "      <td>潘丽丽</td>\n",
       "      <td>30</td>\n",
       "      <td>哈尔滨</td>\n",
       "      <td>62.9</td>\n",
       "    </tr>\n",
       "  </tbody>\n",
       "</table>\n",
       "</div>"
      ],
      "text/plain": [
       "    ID    姓名  年龄    城市  分数\n",
       "20  21    蔡霞    26    大连  79.2\n",
       "2    3    张伟    45    广州  78.9\n",
       "15  16    宋艳    39    宁波  77.1\n",
       "7    8    周洁    25    武汉  75.9\n",
       "27  28    贾亮    29    南昌  74.4\n",
       "17  18    于洋    47    济南  73.6\n",
       "5    6    杨丽    31    南京  72.3\n",
       "23  24    丁健    23  石家庄  71.0\n",
       "11  12    郭静    42    苏州  70.5\n",
       "8    9    孙涛    48    天津  69.4\n",
       "25  26    崔杰    34    无锡  68.1\n",
       "13  14    唐红    27    青岛  67.8\n",
       "21  22    杜飞    52    合肥  66.5\n",
       "3    4  刘秀梅    22    深圳  65.7\n",
       "29  30    董娜    36    常州  64.0\n",
       "18  19  潘丽丽    30  哈尔滨  62.9"
      ]
     },
     "execution_count": 70,
     "metadata": {},
     "output_type": "execute_result"
    }
   ],
   "source": [
    "data[data['分数']<data['分数'].mean()]"
   ]
  },
  {
   "cell_type": "code",
   "execution_count": 73,
   "id": "f057054b",
   "metadata": {},
   "outputs": [
    {
     "data": {
      "text/html": [
       "<div>\n",
       "<style scoped>\n",
       "    .dataframe tbody tr th:only-of-type {\n",
       "        vertical-align: middle;\n",
       "    }\n",
       "\n",
       "    .dataframe tbody tr th {\n",
       "        vertical-align: top;\n",
       "    }\n",
       "\n",
       "    .dataframe thead th {\n",
       "        text-align: right;\n",
       "    }\n",
       "</style>\n",
       "<table border=\"1\" class=\"dataframe\">\n",
       "  <thead>\n",
       "    <tr style=\"text-align: right;\">\n",
       "      <th></th>\n",
       "      <th>ID</th>\n",
       "      <th>姓名</th>\n",
       "      <th>年龄</th>\n",
       "      <th>城市</th>\n",
       "      <th>分数</th>\n",
       "    </tr>\n",
       "  </thead>\n",
       "  <tbody>\n",
       "    <tr>\n",
       "      <th>19</th>\n",
       "      <td>20</td>\n",
       "      <td>曾凡</td>\n",
       "      <td>43</td>\n",
       "      <td>长春</td>\n",
       "      <td>89.8</td>\n",
       "    </tr>\n",
       "    <tr>\n",
       "      <th>6</th>\n",
       "      <td>7</td>\n",
       "      <td>赵勇</td>\n",
       "      <td>40</td>\n",
       "      <td>成都</td>\n",
       "      <td>88.6</td>\n",
       "    </tr>\n",
       "    <tr>\n",
       "      <th>16</th>\n",
       "      <td>17</td>\n",
       "      <td>冯辉</td>\n",
       "      <td>24</td>\n",
       "      <td>郑州</td>\n",
       "      <td>86.4</td>\n",
       "    </tr>\n",
       "    <tr>\n",
       "      <th>0</th>\n",
       "      <td>1</td>\n",
       "      <td>李明</td>\n",
       "      <td>35</td>\n",
       "      <td>北京</td>\n",
       "      <td>85.2</td>\n",
       "    </tr>\n",
       "    <tr>\n",
       "      <th>24</th>\n",
       "      <td>25</td>\n",
       "      <td>梁爽</td>\n",
       "      <td>49</td>\n",
       "      <td>昆明</td>\n",
       "      <td>84.3</td>\n",
       "    </tr>\n",
       "    <tr>\n",
       "      <th>12</th>\n",
       "      <td>13</td>\n",
       "      <td>马军</td>\n",
       "      <td>33</td>\n",
       "      <td>沈阳</td>\n",
       "      <td>83.2</td>\n",
       "    </tr>\n",
       "    <tr>\n",
       "      <th>9</th>\n",
       "      <td>10</td>\n",
       "      <td>郑秀兰</td>\n",
       "      <td>38</td>\n",
       "      <td>重庆</td>\n",
       "      <td>81.7</td>\n",
       "    </tr>\n",
       "    <tr>\n",
       "      <th>28</th>\n",
       "      <td>29</td>\n",
       "      <td>叶文</td>\n",
       "      <td>58</td>\n",
       "      <td>南宁</td>\n",
       "      <td>80.7</td>\n",
       "    </tr>\n",
       "  </tbody>\n",
       "</table>\n",
       "</div>"
      ],
      "text/plain": [
       "    ID    姓名  年龄  城市  分数\n",
       "19  20    曾凡    43  长春  89.8\n",
       "6    7    赵勇    40  成都  88.6\n",
       "16  17    冯辉    24  郑州  86.4\n",
       "0    1    李明    35  北京  85.2\n",
       "24  25    梁爽    49  昆明  84.3\n",
       "12  13    马军    33  沈阳  83.2\n",
       "9   10  郑秀兰    38  重庆  81.7\n",
       "28  29    叶文    58  南宁  80.7"
      ]
     },
     "execution_count": 73,
     "metadata": {},
     "output_type": "execute_result"
    }
   ],
   "source": [
    "data[(data['分数']>80) & (data['分数']<90)]"
   ]
  },
  {
   "cell_type": "code",
   "execution_count": 76,
   "id": "e351353a",
   "metadata": {},
   "outputs": [
    {
     "data": {
      "text/html": [
       "<div>\n",
       "<style scoped>\n",
       "    .dataframe tbody tr th:only-of-type {\n",
       "        vertical-align: middle;\n",
       "    }\n",
       "\n",
       "    .dataframe tbody tr th {\n",
       "        vertical-align: top;\n",
       "    }\n",
       "\n",
       "    .dataframe thead th {\n",
       "        text-align: right;\n",
       "    }\n",
       "</style>\n",
       "<table border=\"1\" class=\"dataframe\">\n",
       "  <thead>\n",
       "    <tr style=\"text-align: right;\">\n",
       "      <th></th>\n",
       "      <th>ID</th>\n",
       "      <th>姓名</th>\n",
       "      <th>年龄</th>\n",
       "      <th>城市</th>\n",
       "      <th>分数</th>\n",
       "      <th>水平</th>\n",
       "    </tr>\n",
       "  </thead>\n",
       "  <tbody>\n",
       "    <tr>\n",
       "      <th>26</th>\n",
       "      <td>27</td>\n",
       "      <td>姜桂兰</td>\n",
       "      <td>41</td>\n",
       "      <td>太原</td>\n",
       "      <td>96.9</td>\n",
       "      <td>优秀</td>\n",
       "    </tr>\n",
       "    <tr>\n",
       "      <th>10</th>\n",
       "      <td>11</td>\n",
       "      <td>林强</td>\n",
       "      <td>29</td>\n",
       "      <td>西安</td>\n",
       "      <td>95.0</td>\n",
       "      <td>优秀</td>\n",
       "    </tr>\n",
       "    <tr>\n",
       "      <th>22</th>\n",
       "      <td>23</td>\n",
       "      <td>任静</td>\n",
       "      <td>37</td>\n",
       "      <td>福州</td>\n",
       "      <td>93.7</td>\n",
       "      <td>优秀</td>\n",
       "    </tr>\n",
       "    <tr>\n",
       "      <th>1</th>\n",
       "      <td>2</td>\n",
       "      <td>王芳</td>\n",
       "      <td>28</td>\n",
       "      <td>上海</td>\n",
       "      <td>92.5</td>\n",
       "      <td>优秀</td>\n",
       "    </tr>\n",
       "    <tr>\n",
       "      <th>14</th>\n",
       "      <td>15</td>\n",
       "      <td>徐鹏</td>\n",
       "      <td>55</td>\n",
       "      <td>长沙</td>\n",
       "      <td>91.3</td>\n",
       "      <td>优秀</td>\n",
       "    </tr>\n",
       "    <tr>\n",
       "      <th>4</th>\n",
       "      <td>5</td>\n",
       "      <td>陈刚</td>\n",
       "      <td>51</td>\n",
       "      <td>杭州</td>\n",
       "      <td>90.1</td>\n",
       "      <td>优秀</td>\n",
       "    </tr>\n",
       "    <tr>\n",
       "      <th>19</th>\n",
       "      <td>20</td>\n",
       "      <td>曾凡</td>\n",
       "      <td>43</td>\n",
       "      <td>长春</td>\n",
       "      <td>89.8</td>\n",
       "      <td>良</td>\n",
       "    </tr>\n",
       "    <tr>\n",
       "      <th>6</th>\n",
       "      <td>7</td>\n",
       "      <td>赵勇</td>\n",
       "      <td>40</td>\n",
       "      <td>成都</td>\n",
       "      <td>88.6</td>\n",
       "      <td>良</td>\n",
       "    </tr>\n",
       "    <tr>\n",
       "      <th>16</th>\n",
       "      <td>17</td>\n",
       "      <td>冯辉</td>\n",
       "      <td>24</td>\n",
       "      <td>郑州</td>\n",
       "      <td>86.4</td>\n",
       "      <td>良</td>\n",
       "    </tr>\n",
       "    <tr>\n",
       "      <th>0</th>\n",
       "      <td>1</td>\n",
       "      <td>李明</td>\n",
       "      <td>35</td>\n",
       "      <td>北京</td>\n",
       "      <td>85.2</td>\n",
       "      <td>良</td>\n",
       "    </tr>\n",
       "    <tr>\n",
       "      <th>24</th>\n",
       "      <td>25</td>\n",
       "      <td>梁爽</td>\n",
       "      <td>49</td>\n",
       "      <td>昆明</td>\n",
       "      <td>84.3</td>\n",
       "      <td>良</td>\n",
       "    </tr>\n",
       "    <tr>\n",
       "      <th>12</th>\n",
       "      <td>13</td>\n",
       "      <td>马军</td>\n",
       "      <td>33</td>\n",
       "      <td>沈阳</td>\n",
       "      <td>83.2</td>\n",
       "      <td>良</td>\n",
       "    </tr>\n",
       "    <tr>\n",
       "      <th>9</th>\n",
       "      <td>10</td>\n",
       "      <td>郑秀兰</td>\n",
       "      <td>38</td>\n",
       "      <td>重庆</td>\n",
       "      <td>81.7</td>\n",
       "      <td>良</td>\n",
       "    </tr>\n",
       "    <tr>\n",
       "      <th>28</th>\n",
       "      <td>29</td>\n",
       "      <td>叶文</td>\n",
       "      <td>58</td>\n",
       "      <td>南宁</td>\n",
       "      <td>80.7</td>\n",
       "      <td>良</td>\n",
       "    </tr>\n",
       "    <tr>\n",
       "      <th>20</th>\n",
       "      <td>21</td>\n",
       "      <td>蔡霞</td>\n",
       "      <td>26</td>\n",
       "      <td>大连</td>\n",
       "      <td>79.2</td>\n",
       "      <td>及格</td>\n",
       "    </tr>\n",
       "    <tr>\n",
       "      <th>2</th>\n",
       "      <td>3</td>\n",
       "      <td>张伟</td>\n",
       "      <td>45</td>\n",
       "      <td>广州</td>\n",
       "      <td>78.9</td>\n",
       "      <td>及格</td>\n",
       "    </tr>\n",
       "    <tr>\n",
       "      <th>15</th>\n",
       "      <td>16</td>\n",
       "      <td>宋艳</td>\n",
       "      <td>39</td>\n",
       "      <td>宁波</td>\n",
       "      <td>77.1</td>\n",
       "      <td>及格</td>\n",
       "    </tr>\n",
       "    <tr>\n",
       "      <th>7</th>\n",
       "      <td>8</td>\n",
       "      <td>周洁</td>\n",
       "      <td>25</td>\n",
       "      <td>武汉</td>\n",
       "      <td>75.9</td>\n",
       "      <td>及格</td>\n",
       "    </tr>\n",
       "    <tr>\n",
       "      <th>27</th>\n",
       "      <td>28</td>\n",
       "      <td>贾亮</td>\n",
       "      <td>29</td>\n",
       "      <td>南昌</td>\n",
       "      <td>74.4</td>\n",
       "      <td>及格</td>\n",
       "    </tr>\n",
       "    <tr>\n",
       "      <th>17</th>\n",
       "      <td>18</td>\n",
       "      <td>于洋</td>\n",
       "      <td>47</td>\n",
       "      <td>济南</td>\n",
       "      <td>73.6</td>\n",
       "      <td>及格</td>\n",
       "    </tr>\n",
       "    <tr>\n",
       "      <th>5</th>\n",
       "      <td>6</td>\n",
       "      <td>杨丽</td>\n",
       "      <td>31</td>\n",
       "      <td>南京</td>\n",
       "      <td>72.3</td>\n",
       "      <td>及格</td>\n",
       "    </tr>\n",
       "    <tr>\n",
       "      <th>23</th>\n",
       "      <td>24</td>\n",
       "      <td>丁健</td>\n",
       "      <td>23</td>\n",
       "      <td>石家庄</td>\n",
       "      <td>71.0</td>\n",
       "      <td>及格</td>\n",
       "    </tr>\n",
       "    <tr>\n",
       "      <th>11</th>\n",
       "      <td>12</td>\n",
       "      <td>郭静</td>\n",
       "      <td>42</td>\n",
       "      <td>苏州</td>\n",
       "      <td>70.5</td>\n",
       "      <td>及格</td>\n",
       "    </tr>\n",
       "    <tr>\n",
       "      <th>8</th>\n",
       "      <td>9</td>\n",
       "      <td>孙涛</td>\n",
       "      <td>48</td>\n",
       "      <td>天津</td>\n",
       "      <td>69.4</td>\n",
       "      <td>不合格</td>\n",
       "    </tr>\n",
       "    <tr>\n",
       "      <th>25</th>\n",
       "      <td>26</td>\n",
       "      <td>崔杰</td>\n",
       "      <td>34</td>\n",
       "      <td>无锡</td>\n",
       "      <td>68.1</td>\n",
       "      <td>不合格</td>\n",
       "    </tr>\n",
       "    <tr>\n",
       "      <th>13</th>\n",
       "      <td>14</td>\n",
       "      <td>唐红</td>\n",
       "      <td>27</td>\n",
       "      <td>青岛</td>\n",
       "      <td>67.8</td>\n",
       "      <td>不合格</td>\n",
       "    </tr>\n",
       "    <tr>\n",
       "      <th>21</th>\n",
       "      <td>22</td>\n",
       "      <td>杜飞</td>\n",
       "      <td>52</td>\n",
       "      <td>合肥</td>\n",
       "      <td>66.5</td>\n",
       "      <td>不合格</td>\n",
       "    </tr>\n",
       "    <tr>\n",
       "      <th>3</th>\n",
       "      <td>4</td>\n",
       "      <td>刘秀梅</td>\n",
       "      <td>22</td>\n",
       "      <td>深圳</td>\n",
       "      <td>65.7</td>\n",
       "      <td>不合格</td>\n",
       "    </tr>\n",
       "    <tr>\n",
       "      <th>29</th>\n",
       "      <td>30</td>\n",
       "      <td>董娜</td>\n",
       "      <td>36</td>\n",
       "      <td>常州</td>\n",
       "      <td>64.0</td>\n",
       "      <td>不合格</td>\n",
       "    </tr>\n",
       "    <tr>\n",
       "      <th>18</th>\n",
       "      <td>19</td>\n",
       "      <td>潘丽丽</td>\n",
       "      <td>30</td>\n",
       "      <td>哈尔滨</td>\n",
       "      <td>62.9</td>\n",
       "      <td>不合格</td>\n",
       "    </tr>\n",
       "  </tbody>\n",
       "</table>\n",
       "</div>"
      ],
      "text/plain": [
       "    ID    姓名  年龄    城市  分数    水平\n",
       "26  27  姜桂兰    41    太原  96.9    优秀\n",
       "10  11    林强    29    西安  95.0    优秀\n",
       "22  23    任静    37    福州  93.7    优秀\n",
       "1    2    王芳    28    上海  92.5    优秀\n",
       "14  15    徐鹏    55    长沙  91.3    优秀\n",
       "4    5    陈刚    51    杭州  90.1    优秀\n",
       "19  20    曾凡    43    长春  89.8      良\n",
       "6    7    赵勇    40    成都  88.6      良\n",
       "16  17    冯辉    24    郑州  86.4      良\n",
       "0    1    李明    35    北京  85.2      良\n",
       "24  25    梁爽    49    昆明  84.3      良\n",
       "12  13    马军    33    沈阳  83.2      良\n",
       "9   10  郑秀兰    38    重庆  81.7      良\n",
       "28  29    叶文    58    南宁  80.7      良\n",
       "20  21    蔡霞    26    大连  79.2    及格\n",
       "2    3    张伟    45    广州  78.9    及格\n",
       "15  16    宋艳    39    宁波  77.1    及格\n",
       "7    8    周洁    25    武汉  75.9    及格\n",
       "27  28    贾亮    29    南昌  74.4    及格\n",
       "17  18    于洋    47    济南  73.6    及格\n",
       "5    6    杨丽    31    南京  72.3    及格\n",
       "23  24    丁健    23  石家庄  71.0    及格\n",
       "11  12    郭静    42    苏州  70.5    及格\n",
       "8    9    孙涛    48    天津  69.4  不合格\n",
       "25  26    崔杰    34    无锡  68.1  不合格\n",
       "13  14    唐红    27    青岛  67.8  不合格\n",
       "21  22    杜飞    52    合肥  66.5  不合格\n",
       "3    4  刘秀梅    22    深圳  65.7  不合格\n",
       "29  30    董娜    36    常州  64.0  不合格\n",
       "18  19  潘丽丽    30  哈尔滨  62.9  不合格"
      ]
     },
     "execution_count": 76,
     "metadata": {},
     "output_type": "execute_result"
    }
   ],
   "source": [
    "data['水平']=pd.cut(data['分数'],bins=[60,70,80,90,100],labels=['不合格','及格','良','优秀'])\n",
    "data"
   ]
  }
 ],
 "metadata": {
  "kernelspec": {
   "display_name": "Python 3",
   "language": "python",
   "name": "python3"
  },
  "language_info": {
   "codemirror_mode": {
    "name": "ipython",
    "version": 3
   },
   "file_extension": ".py",
   "mimetype": "text/x-python",
   "name": "python",
   "nbconvert_exporter": "python",
   "pygments_lexer": "ipython3",
   "version": "3.13.3"
  }
 },
 "nbformat": 4,
 "nbformat_minor": 5
}
