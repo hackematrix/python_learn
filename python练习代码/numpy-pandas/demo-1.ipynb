{
 "cells": [
  {
   "cell_type": "code",
   "execution_count": 15,
   "id": "aaa45acc",
   "metadata": {},
   "outputs": [],
   "source": [
    "\"\"\"导入numpy\"\"\"\n",
    "import numpy as np\n",
    "\n"
   ]
  },
  {
   "cell_type": "markdown",
   "id": "9cd2651d",
   "metadata": {},
   "source": [
    "### 一维数组\n"
   ]
  },
  {
   "cell_type": "markdown",
   "id": "0c8a9364",
   "metadata": {},
   "source": []
  },
  {
   "cell_type": "code",
   "execution_count": 22,
   "id": "bd645208",
   "metadata": {},
   "outputs": [
    {
     "name": "stdout",
     "output_type": "stream",
     "text": [
      "[5 3 3 4 1 2]\n",
      "[5 5 1 1 0 3]\n"
     ]
    }
   ],
   "source": [
    "day1=np.array([5,3,3,4,1,2],dtype=int)\n",
    "day2=np.array([5,5,1,1,0,3],dtype=int)\n",
    "print(day1)\n",
    "print(day2)"
   ]
  },
  {
   "cell_type": "code",
   "execution_count": 17,
   "id": "8538545c",
   "metadata": {},
   "outputs": [
    {
     "name": "stdout",
     "output_type": "stream",
     "text": [
      "[1 1 1 1 1 1]\n",
      "[0 0 0 0 0 0]\n"
     ]
    }
   ],
   "source": [
    "\"\"\"全零或者全1数组\"\"\"\n",
    "\n",
    "day3=np.ones(6,dtype=int)\n",
    "day4=np.zeros(6,dtype=int)\n",
    "\n",
    "print(day3)\n",
    "print(day4)"
   ]
  },
  {
   "cell_type": "markdown",
   "id": "440de6dd",
   "metadata": {},
   "source": [
    "#### 索引和切片\n",
    "\n"
   ]
  },
  {
   "cell_type": "code",
   "execution_count": 11,
   "id": "bdff044a",
   "metadata": {},
   "outputs": [
    {
     "name": "stdout",
     "output_type": "stream",
     "text": [
      "2\n",
      "[5 3 3 4]\n"
     ]
    }
   ],
   "source": [
    "day1=np.array([5,3,3,4,1,2],dtype=int)\n",
    "print(day1[-1])\n",
    "print(day1[:4])"
   ]
  },
  {
   "cell_type": "markdown",
   "id": "576141bf",
   "metadata": {},
   "source": [
    "##### 一维数组的基本统计量"
   ]
  },
  {
   "cell_type": "markdown",
   "id": "20cac7c4",
   "metadata": {},
   "source": [
    "**有什么统计量，求和sum,求最大值max,求最小值min,求平均值mean,求中位数median,求极差ptp,求标准差std，求方差var**"
   ]
  },
  {
   "cell_type": "code",
   "execution_count": 18,
   "id": "53646e62",
   "metadata": {},
   "outputs": [
    {
     "name": "stdout",
     "output_type": "stream",
     "text": [
      "6\n"
     ]
    }
   ],
   "source": [
    "two_day=day1+day2\n",
    "dinner_time=two_day[4:]\n",
    "print(np.sum(dinner_time))  #求和 "
   ]
  },
  {
   "cell_type": "code",
   "execution_count": 23,
   "id": "e67ac13f",
   "metadata": {},
   "outputs": [
    {
     "name": "stdout",
     "output_type": "stream",
     "text": [
      "[10  8  4  5  1  5]\n",
      "5.5\n",
      "9\n",
      "5.0\n"
     ]
    }
   ],
   "source": [
    "print(two_day)\n",
    "print(np.mean(two_day)) #平均值\n",
    "print(np.ptp(two_day)) #极差\n",
    "print(np.median(two_day)) #中位数"
   ]
  },
  {
   "cell_type": "markdown",
   "id": "e3e32d42",
   "metadata": {},
   "source": [
    "**多维数组**"
   ]
  },
  {
   "cell_type": "code",
   "execution_count": 24,
   "id": "27ebb3a3",
   "metadata": {},
   "outputs": [
    {
     "name": "stdout",
     "output_type": "stream",
     "text": [
      "[[5 3 3 4 1 2]\n",
      " [5 5 1 1 3 3]]\n"
     ]
    }
   ],
   "source": [
    "first_two_day=np.array([[5,3,3,4,1,2],[5,5,1,1,3,3]])\n",
    "print(first_two_day)"
   ]
  },
  {
   "cell_type": "code",
   "execution_count": 25,
   "id": "bba9852b",
   "metadata": {},
   "outputs": [
    {
     "name": "stdout",
     "output_type": "stream",
     "text": [
      "[[0. 0. 0. 0. 0. 0.]\n",
      " [0. 0. 0. 0. 0. 0.]]\n",
      "[[1. 1. 1. 1. 1. 1.]\n",
      " [1. 1. 1. 1. 1. 1.]]\n"
     ]
    }
   ],
   "source": [
    "second_two_day=np.zeros((2,6))\n",
    "thrid_two_day=np.ones((2,6))\n",
    "print(second_two_day)\n",
    "print(thrid_two_day)"
   ]
  },
  {
   "cell_type": "markdown",
   "id": "fe1157c6",
   "metadata": {},
   "source": [
    "**多维数组的维度**"
   ]
  },
  {
   "cell_type": "code",
   "execution_count": 27,
   "id": "8ce14a86",
   "metadata": {},
   "outputs": [
    {
     "name": "stdout",
     "output_type": "stream",
     "text": [
      "维度是2\n",
      "多维数组的形状是(2, 6)\n",
      "多维数组元素的个数12\n",
      "多维数组元素的类型int64\n"
     ]
    }
   ],
   "source": [
    "dim=first_two_day.ndim\n",
    "print(f\"维度是{dim}\")\n",
    "\n",
    "matrix_shape=first_two_day.shape\n",
    "print(f\"多维数组的形状是{matrix_shape}\")\n",
    "\n",
    "matrix_size=first_two_day.size\n",
    "print(f\"多维数组元素的个数{matrix_size}\")\n",
    "\n",
    "matrix_dtype=first_two_day.dtype\n",
    "print(f\"多维数组元素的类型{matrix_dtype}\")"
   ]
  },
  {
   "cell_type": "markdown",
   "id": "e253f34f",
   "metadata": {},
   "source": [
    "**二维数组的统计量**"
   ]
  },
  {
   "cell_type": "code",
   "execution_count": 28,
   "id": "792e4257",
   "metadata": {},
   "outputs": [
    {
     "name": "stdout",
     "output_type": "stream",
     "text": [
      "[[5 3 3 4 1 2]\n",
      " [5 5 1 1 3 3]]\n",
      "36\n",
      "5\n"
     ]
    }
   ],
   "source": [
    "print(first_two_day)\n",
    "print(np.sum(first_two_day)) #求和\n",
    "print(np.max(first_two_day)) #求最大值"
   ]
  },
  {
   "cell_type": "code",
   "execution_count": null,
   "id": "3ad1589b",
   "metadata": {},
   "outputs": [
    {
     "name": "stdout",
     "output_type": "stream",
     "text": [
      "[10  8  4  5  4  5]\n",
      "[18 18]\n"
     ]
    }
   ],
   "source": [
    "print(np.sum(first_two_day,axis=0)) #对行求和\n",
    "print(np.sum(first_two_day,axis=1)) #对列求和"
   ]
  },
  {
   "cell_type": "code",
   "execution_count": 35,
   "id": "a3840945",
   "metadata": {},
   "outputs": [
    {
     "name": "stdout",
     "output_type": "stream",
     "text": [
      "[[1 2]\n",
      " [3 3]]\n"
     ]
    }
   ],
   "source": [
    "print(first_two_day[0:,-2:])"
   ]
  },
  {
   "cell_type": "markdown",
   "id": "fafdde2e",
   "metadata": {},
   "source": [
    "**random.randin模块**"
   ]
  },
  {
   "cell_type": "code",
   "execution_count": 39,
   "id": "df6ca3d6",
   "metadata": {},
   "outputs": [
    {
     "name": "stdout",
     "output_type": "stream",
     "text": [
      "3\n",
      "[5 4]\n",
      "[[1 5 1 3 4 5]\n",
      " [2 2 1 3 3 3]]\n"
     ]
    }
   ],
   "source": [
    "print(np.random.randint(1,6))\n",
    "print(np.random.randint(1,6,2))\n",
    "print(np.random.randint(1,6,(2,6)))"
   ]
  },
  {
   "cell_type": "markdown",
   "id": "47dc1993",
   "metadata": {},
   "source": [
    "**生成0-1的小数**"
   ]
  },
  {
   "cell_type": "code",
   "execution_count": 43,
   "id": "37bc5c26",
   "metadata": {},
   "outputs": [
    {
     "name": "stdout",
     "output_type": "stream",
     "text": [
      "0.7192842453981138\n",
      "[0.10899812 0.619859  ]\n",
      "[[0.04715051 0.90946704 0.69410609 0.832103   0.15025075 0.11397986]\n",
      " [0.90998331 0.20143601 0.11496867 0.34531654 0.43020548 0.09496487]]\n"
     ]
    }
   ],
   "source": [
    "print(np.random.rand())\n",
    "print(np.random.rand(2))\n",
    "print(np.random.rand(2,6))"
   ]
  },
  {
   "cell_type": "markdown",
   "id": "acfbf633",
   "metadata": {},
   "source": [
    "**arange()方法**"
   ]
  },
  {
   "cell_type": "code",
   "execution_count": 46,
   "id": "8643e243",
   "metadata": {},
   "outputs": [
    {
     "name": "stdout",
     "output_type": "stream",
     "text": [
      "[1 2 3 4 5 6 7 8 9]\n",
      "[1 3 5 7 9]\n",
      "13260\n"
     ]
    }
   ],
   "source": [
    "array_1=np.arange(1,10)\n",
    "print(array_1)\n",
    "\n",
    "array_2=np.arange(1,10,2)\n",
    "print(array_2)\n",
    "\n",
    "piggy_bank=0\n",
    "for _ in np.arange(10,520,10):\n",
    "    piggy_bank+=_\n",
    "print(piggy_bank)    "
   ]
  },
  {
   "cell_type": "markdown",
   "id": "f638c164",
   "metadata": {},
   "source": [
    "**pandas**"
   ]
  },
  {
   "cell_type": "code",
   "execution_count": 47,
   "id": "98a62284",
   "metadata": {},
   "outputs": [],
   "source": [
    "import pandas as pd\n",
    "\n"
   ]
  },
  {
   "cell_type": "code",
   "execution_count": null,
   "id": "3215017d",
   "metadata": {},
   "outputs": [
    {
     "name": "stdout",
     "output_type": "stream",
     "text": [
      "拿铁       14\n",
      "焦糖玛奇朵     7\n",
      "可乐        8\n",
      "华大饼      10\n",
      "dtype: int64\n"
     ]
    }
   ],
   "source": [
    "#写法1\n",
    "print(pd.Series([14,7,8,10],index=[\"拿铁\",\"焦糖玛奇朵\",\"可乐\",\"华大饼\"]))\n"
   ]
  },
  {
   "cell_type": "code",
   "execution_count": 49,
   "id": "a030ed18",
   "metadata": {},
   "outputs": [
    {
     "name": "stdout",
     "output_type": "stream",
     "text": [
      "拿铁       14\n",
      "焦糖玛奇朵     7\n",
      "可乐        8\n",
      "华大饼      10\n",
      "dtype: int64\n"
     ]
    }
   ],
   "source": [
    "#写法2\n",
    "print(pd.Series({\"拿铁\":14,\"焦糖玛奇朵\":7,\"可乐\":8,\"华大饼\":10}))\n"
   ]
  },
  {
   "cell_type": "code",
   "execution_count": 51,
   "id": "7cbe939f",
   "metadata": {},
   "outputs": [
    {
     "name": "stderr",
     "output_type": "stream",
     "text": [
      "C:\\Users\\36317\\AppData\\Local\\Temp\\ipykernel_16248\\1420841353.py:2: FutureWarning: Series.__getitem__ treating keys as positions is deprecated. In a future version, integer keys will always be treated as labels (consistent with DataFrame behavior). To access a value by position, use `ser.iloc[pos]`\n",
      "  shop1[0]\n"
     ]
    },
    {
     "data": {
      "text/plain": [
       "np.int64(14)"
      ]
     },
     "execution_count": 51,
     "metadata": {},
     "output_type": "execute_result"
    }
   ],
   "source": [
    "shop1=pd.Series({\"拿铁\":14,\"焦糖玛奇朵\":7,\"可乐\":8,\"华大饼\":10})\n",
    "shop1[0]"
   ]
  },
  {
   "cell_type": "code",
   "execution_count": 52,
   "id": "f58912be",
   "metadata": {},
   "outputs": [
    {
     "name": "stdout",
     "output_type": "stream",
     "text": [
      "冰淇淋       6.0\n",
      "华大饼      10.0\n",
      "可乐        8.0\n",
      "拿铁       34.0\n",
      "焦糖玛奇朵    10.0\n",
      "雪碧       13.0\n",
      "dtype: float64\n"
     ]
    }
   ],
   "source": [
    "shop1=pd.Series({\"拿铁\":14,\"焦糖玛奇朵\":7,\"可乐\":8,\"华大饼\":10})\n",
    "shop2=pd.Series({\"拿铁\":20,\"焦糖玛奇朵\":3,\"雪碧\":13,\"冰淇淋\":6})\n",
    "\n",
    "sum_shop=shop1.add(shop2,fill_value=0)\n",
    "print(sum_shop)"
   ]
  },
  {
   "cell_type": "markdown",
   "id": "20300559",
   "metadata": {},
   "source": [
    "**减法sub(),加法add(),除法div(),乘法mul()**"
   ]
  },
  {
   "cell_type": "markdown",
   "id": "83237f09",
   "metadata": {},
   "source": []
  }
 ],
 "metadata": {
  "kernelspec": {
   "display_name": "Python 3",
   "language": "python",
   "name": "python3"
  },
  "language_info": {
   "codemirror_mode": {
    "name": "ipython",
    "version": 3
   },
   "file_extension": ".py",
   "mimetype": "text/x-python",
   "name": "python",
   "nbconvert_exporter": "python",
   "pygments_lexer": "ipython3",
   "version": "3.13.3"
  }
 },
 "nbformat": 4,
 "nbformat_minor": 5
}
