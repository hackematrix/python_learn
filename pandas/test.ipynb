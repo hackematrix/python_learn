import pandas as pd
print(pd.__version__)

# python的版本
